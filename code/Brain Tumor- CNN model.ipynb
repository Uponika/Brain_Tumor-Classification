{
 "cells": [
  {
   "cell_type": "code",
   "execution_count": 1,
   "id": "8d63d75c",
   "metadata": {},
   "outputs": [
    {
     "name": "stdout",
     "output_type": "stream",
     "text": [
      "Collecting tensorflowNote: you may need to restart the kernel to use updated packages.\n",
      "\n",
      "  Downloading tensorflow-2.11.0-cp38-cp38-win_amd64.whl (1.9 kB)\n",
      "Collecting tensorflow-intel==2.11.0\n",
      "  Downloading tensorflow_intel-2.11.0-cp38-cp38-win_amd64.whl (266.3 MB)\n",
      "Collecting flatbuffers>=2.0\n",
      "  Downloading flatbuffers-22.11.23-py2.py3-none-any.whl (26 kB)\n",
      "Collecting libclang>=13.0.0\n",
      "  Downloading libclang-14.0.6-py2.py3-none-win_amd64.whl (14.2 MB)\n",
      "Requirement already satisfied: typing-extensions>=3.6.6 in d:\\anaconda3\\lib\\site-packages (from tensorflow-intel==2.11.0->tensorflow) (3.7.4.3)\n",
      "Collecting tensorflow-io-gcs-filesystem>=0.23.1\n",
      "  Downloading tensorflow_io_gcs_filesystem-0.28.0-cp38-cp38-win_amd64.whl (1.5 MB)\n",
      "Collecting grpcio<2.0,>=1.24.3\n",
      "  Downloading grpcio-1.50.0-cp38-cp38-win_amd64.whl (3.7 MB)\n",
      "Requirement already satisfied: setuptools in d:\\anaconda3\\lib\\site-packages (from tensorflow-intel==2.11.0->tensorflow) (52.0.0.post20210125)\n",
      "Collecting keras<2.12,>=2.11.0\n",
      "  Downloading keras-2.11.0-py2.py3-none-any.whl (1.7 MB)\n",
      "Collecting opt-einsum>=2.3.2\n",
      "  Downloading opt_einsum-3.3.0-py3-none-any.whl (65 kB)\n",
      "Requirement already satisfied: h5py>=2.9.0 in d:\\anaconda3\\lib\\site-packages (from tensorflow-intel==2.11.0->tensorflow) (2.10.0)\n",
      "Requirement already satisfied: numpy>=1.20 in d:\\anaconda3\\lib\\site-packages (from tensorflow-intel==2.11.0->tensorflow) (1.20.1)\n",
      "Collecting astunparse>=1.6.0\n",
      "  Downloading astunparse-1.6.3-py2.py3-none-any.whl (12 kB)\n",
      "Requirement already satisfied: packaging in d:\\anaconda3\\lib\\site-packages (from tensorflow-intel==2.11.0->tensorflow) (20.9)\n",
      "Collecting tensorflow-estimator<2.12,>=2.11.0\n",
      "  Downloading tensorflow_estimator-2.11.0-py2.py3-none-any.whl (439 kB)\n",
      "Collecting protobuf<3.20,>=3.9.2\n",
      "  Downloading protobuf-3.19.6-cp38-cp38-win_amd64.whl (896 kB)\n",
      "Collecting absl-py>=1.0.0\n",
      "  Downloading absl_py-1.3.0-py3-none-any.whl (124 kB)\n",
      "Requirement already satisfied: six>=1.12.0 in d:\\anaconda3\\lib\\site-packages (from tensorflow-intel==2.11.0->tensorflow) (1.15.0)\n",
      "Collecting tensorboard<2.12,>=2.11\n",
      "  Downloading tensorboard-2.11.0-py3-none-any.whl (6.0 MB)\n",
      "Collecting gast<=0.4.0,>=0.2.1\n",
      "  Downloading gast-0.4.0-py3-none-any.whl (9.8 kB)\n",
      "Collecting termcolor>=1.1.0\n",
      "  Downloading termcolor-2.1.1-py3-none-any.whl (6.2 kB)\n",
      "Requirement already satisfied: wrapt>=1.11.0 in d:\\anaconda3\\lib\\site-packages (from tensorflow-intel==2.11.0->tensorflow) (1.12.1)\n",
      "Collecting google-pasta>=0.1.1\n",
      "  Downloading google_pasta-0.2.0-py3-none-any.whl (57 kB)\n",
      "Requirement already satisfied: wheel<1.0,>=0.23.0 in d:\\anaconda3\\lib\\site-packages (from astunparse>=1.6.0->tensorflow-intel==2.11.0->tensorflow) (0.36.2)\n",
      "Collecting tensorboard-plugin-wit>=1.6.0\n",
      "  Downloading tensorboard_plugin_wit-1.8.1-py3-none-any.whl (781 kB)\n",
      "Collecting google-auth<3,>=1.6.3\n",
      "  Downloading google_auth-2.14.1-py2.py3-none-any.whl (175 kB)\n",
      "Requirement already satisfied: werkzeug>=1.0.1 in d:\\anaconda3\\lib\\site-packages (from tensorboard<2.12,>=2.11->tensorflow-intel==2.11.0->tensorflow) (1.0.1)\n",
      "Requirement already satisfied: requests<3,>=2.21.0 in d:\\anaconda3\\lib\\site-packages (from tensorboard<2.12,>=2.11->tensorflow-intel==2.11.0->tensorflow) (2.25.1)\n",
      "Collecting tensorboard-data-server<0.7.0,>=0.6.0\n",
      "  Downloading tensorboard_data_server-0.6.1-py3-none-any.whl (2.4 kB)\n",
      "Collecting google-auth-oauthlib<0.5,>=0.4.1\n",
      "  Downloading google_auth_oauthlib-0.4.6-py2.py3-none-any.whl (18 kB)\n",
      "Collecting markdown>=2.6.8\n",
      "  Downloading Markdown-3.4.1-py3-none-any.whl (93 kB)\n",
      "Collecting rsa<5,>=3.1.4\n",
      "  Downloading rsa-4.9-py3-none-any.whl (34 kB)\n",
      "Collecting cachetools<6.0,>=2.0.0\n",
      "  Downloading cachetools-5.2.0-py3-none-any.whl (9.3 kB)\n",
      "Collecting pyasn1-modules>=0.2.1\n",
      "  Downloading pyasn1_modules-0.2.8-py2.py3-none-any.whl (155 kB)\n",
      "Collecting requests-oauthlib>=0.7.0\n",
      "  Downloading requests_oauthlib-1.3.1-py2.py3-none-any.whl (23 kB)\n",
      "Collecting importlib-metadata>=4.4\n",
      "  Downloading importlib_metadata-5.1.0-py3-none-any.whl (21 kB)\n",
      "Requirement already satisfied: zipp>=0.5 in d:\\anaconda3\\lib\\site-packages (from importlib-metadata>=4.4->markdown>=2.6.8->tensorboard<2.12,>=2.11->tensorflow-intel==2.11.0->tensorflow) (3.4.1)\n",
      "Collecting pyasn1<0.5.0,>=0.4.6\n",
      "  Downloading pyasn1-0.4.8-py2.py3-none-any.whl (77 kB)\n",
      "Requirement already satisfied: urllib3<1.27,>=1.21.1 in d:\\anaconda3\\lib\\site-packages (from requests<3,>=2.21.0->tensorboard<2.12,>=2.11->tensorflow-intel==2.11.0->tensorflow) (1.26.4)\n",
      "Requirement already satisfied: idna<3,>=2.5 in d:\\anaconda3\\lib\\site-packages (from requests<3,>=2.21.0->tensorboard<2.12,>=2.11->tensorflow-intel==2.11.0->tensorflow) (2.10)\n",
      "Requirement already satisfied: chardet<5,>=3.0.2 in d:\\anaconda3\\lib\\site-packages (from requests<3,>=2.21.0->tensorboard<2.12,>=2.11->tensorflow-intel==2.11.0->tensorflow) (4.0.0)\n",
      "Requirement already satisfied: certifi>=2017.4.17 in d:\\anaconda3\\lib\\site-packages (from requests<3,>=2.21.0->tensorboard<2.12,>=2.11->tensorflow-intel==2.11.0->tensorflow) (2020.12.5)\n",
      "Collecting oauthlib>=3.0.0\n",
      "  Downloading oauthlib-3.2.2-py3-none-any.whl (151 kB)\n",
      "Requirement already satisfied: pyparsing>=2.0.2 in d:\\anaconda3\\lib\\site-packages (from packaging->tensorflow-intel==2.11.0->tensorflow) (2.4.7)\n",
      "Installing collected packages: pyasn1, rsa, pyasn1-modules, oauthlib, cachetools, requests-oauthlib, importlib-metadata, google-auth, tensorboard-plugin-wit, tensorboard-data-server, protobuf, markdown, grpcio, google-auth-oauthlib, absl-py, termcolor, tensorflow-io-gcs-filesystem, tensorflow-estimator, tensorboard, opt-einsum, libclang, keras, google-pasta, gast, flatbuffers, astunparse, tensorflow-intel, tensorflow\n",
      "  Attempting uninstall: importlib-metadata\n",
      "    Found existing installation: importlib-metadata 3.10.0\n",
      "    Uninstalling importlib-metadata-3.10.0:\n",
      "      Successfully uninstalled importlib-metadata-3.10.0\n",
      "Successfully installed absl-py-1.3.0 astunparse-1.6.3 cachetools-5.2.0 flatbuffers-22.11.23 gast-0.4.0 google-auth-2.14.1 google-auth-oauthlib-0.4.6 google-pasta-0.2.0 grpcio-1.50.0 importlib-metadata-5.1.0 keras-2.11.0 libclang-14.0.6 markdown-3.4.1 oauthlib-3.2.2 opt-einsum-3.3.0 protobuf-3.19.6 pyasn1-0.4.8 pyasn1-modules-0.2.8 requests-oauthlib-1.3.1 rsa-4.9 tensorboard-2.11.0 tensorboard-data-server-0.6.1 tensorboard-plugin-wit-1.8.1 tensorflow-2.11.0 tensorflow-estimator-2.11.0 tensorflow-intel-2.11.0 tensorflow-io-gcs-filesystem-0.28.0 termcolor-2.1.1\n"
     ]
    }
   ],
   "source": [
    "pip install --upgrade tensorflow"
   ]
  },
  {
   "cell_type": "code",
   "execution_count": 1,
   "id": "63a9bd8d",
   "metadata": {},
   "outputs": [
    {
     "name": "stdout",
     "output_type": "stream",
     "text": [
      "Collecting pydotNote: you may need to restart the kernel to use updated packages.\n",
      "  Downloading pydot-1.4.2-py2.py3-none-any.whl (21 kB)\n",
      "Requirement already satisfied: pyparsing>=2.1.4 in d:\\anaconda3\\lib\\site-packages (from pydot) (2.4.7)\n",
      "Installing collected packages: pydot\n",
      "Successfully installed pydot-1.4.2\n",
      "\n"
     ]
    }
   ],
   "source": [
    "pip install pydot"
   ]
  },
  {
   "cell_type": "code",
   "execution_count": 2,
   "id": "811738c9",
   "metadata": {},
   "outputs": [
    {
     "name": "stdout",
     "output_type": "stream",
     "text": [
      "Collecting opencv-python\n",
      "  Downloading opencv_python-4.6.0.66-cp36-abi3-win_amd64.whl (35.6 MB)\n",
      "Requirement already satisfied: numpy>=1.14.5 in d:\\anaconda3\\lib\\site-packages (from opencv-python) (1.20.1)\n",
      "Installing collected packages: opencv-python\n",
      "Successfully installed opencv-python-4.6.0.66\n",
      "Note: you may need to restart the kernel to use updated packages.\n"
     ]
    }
   ],
   "source": [
    "pip install opencv-python"
   ]
  },
  {
   "cell_type": "code",
   "execution_count": 1,
   "id": "4b4a9126",
   "metadata": {},
   "outputs": [],
   "source": [
    "import numpy as np\n",
    "import pandas as pd\n",
    "import matplotlib.pyplot as plt\n",
    "import cv2\n",
    "import os\n",
    "import seaborn as sns\n",
    "\n",
    "DATADIR = r\"C:\\Users\\Uponika Barman Roy\\Desktop\\Semester1\\DA Projects\\group-Project\\data\\Training\"\n",
    "CATEGORIES = [\"glioma\",\"meningioma\",\"notumor\",\"pituitary\"]"
   ]
  },
  {
   "cell_type": "code",
   "execution_count": 2,
   "id": "330b996d",
   "metadata": {},
   "outputs": [
    {
     "ename": "FileNotFoundError",
     "evalue": "[WinError 3] The system cannot find the path specified: 'C:\\\\Users\\\\Uponika Barman Roy\\\\Desktop\\\\Semester1\\\\DA Projects\\\\group-Project\\\\data\\\\Training'",
     "output_type": "error",
     "traceback": [
      "\u001b[1;31m---------------------------------------------------------------------------\u001b[0m",
      "\u001b[1;31mFileNotFoundError\u001b[0m                         Traceback (most recent call last)",
      "\u001b[1;32m<ipython-input-2-8f90ae6494d1>\u001b[0m in \u001b[0;36m<module>\u001b[1;34m\u001b[0m\n\u001b[0;32m      1\u001b[0m \u001b[1;32mimport\u001b[0m \u001b[0mplotly\u001b[0m\u001b[1;33m.\u001b[0m\u001b[0mexpress\u001b[0m \u001b[1;32mas\u001b[0m \u001b[0mpx\u001b[0m\u001b[1;33m\u001b[0m\u001b[1;33m\u001b[0m\u001b[0m\n\u001b[0;32m      2\u001b[0m \u001b[0mclasses_info\u001b[0m \u001b[1;33m=\u001b[0m \u001b[1;33m{\u001b[0m\u001b[1;33m}\u001b[0m\u001b[1;33m\u001b[0m\u001b[1;33m\u001b[0m\u001b[0m\n\u001b[1;32m----> 3\u001b[1;33m \u001b[0mclasses\u001b[0m \u001b[1;33m=\u001b[0m \u001b[0msorted\u001b[0m\u001b[1;33m(\u001b[0m\u001b[0mos\u001b[0m\u001b[1;33m.\u001b[0m\u001b[0mlistdir\u001b[0m\u001b[1;33m(\u001b[0m\u001b[0mDATADIR\u001b[0m\u001b[1;33m)\u001b[0m\u001b[1;33m)\u001b[0m\u001b[1;33m\u001b[0m\u001b[1;33m\u001b[0m\u001b[0m\n\u001b[0m\u001b[0;32m      4\u001b[0m \u001b[1;32mfor\u001b[0m \u001b[0mname\u001b[0m \u001b[1;32min\u001b[0m \u001b[0mclasses\u001b[0m\u001b[1;33m:\u001b[0m\u001b[1;33m\u001b[0m\u001b[1;33m\u001b[0m\u001b[0m\n\u001b[0;32m      5\u001b[0m     \u001b[0mclasses_info\u001b[0m\u001b[1;33m[\u001b[0m\u001b[0mname\u001b[0m\u001b[1;33m]\u001b[0m \u001b[1;33m=\u001b[0m \u001b[0mlen\u001b[0m\u001b[1;33m(\u001b[0m\u001b[0mos\u001b[0m\u001b[1;33m.\u001b[0m\u001b[0mlistdir\u001b[0m\u001b[1;33m(\u001b[0m\u001b[0mDATADIR\u001b[0m \u001b[1;33m+\u001b[0m \u001b[1;34mf'/{name}'\u001b[0m\u001b[1;33m)\u001b[0m\u001b[1;33m)\u001b[0m\u001b[1;33m\u001b[0m\u001b[1;33m\u001b[0m\u001b[0m\n",
      "\u001b[1;31mFileNotFoundError\u001b[0m: [WinError 3] The system cannot find the path specified: 'C:\\\\Users\\\\Uponika Barman Roy\\\\Desktop\\\\Semester1\\\\DA Projects\\\\group-Project\\\\data\\\\Training'"
     ]
    }
   ],
   "source": [
    "import plotly.express as px\n",
    "classes_info = {}\n",
    "classes = sorted(os.listdir(DATADIR))\n",
    "for name in classes:\n",
    "    classes_info[name] = len(os.listdir(DATADIR + f'/{name}'))\n",
    "print(classes_info)\n",
    "fig = px.pie(names=classes_info.keys(),values=classes_info.values(),hole=0.05,title='CLasses Info')\n",
    "fig.update_layout({'title':{\"x\":0.1}})\n",
    "fig.show()"
   ]
  },
  {
   "cell_type": "markdown",
   "id": "e8562fec",
   "metadata": {},
   "source": [
    "### Training Data Preparation"
   ]
  },
  {
   "cell_type": "code",
   "execution_count": 3,
   "id": "588241a7",
   "metadata": {},
   "outputs": [
    {
     "ename": "FileNotFoundError",
     "evalue": "[WinError 3] The system cannot find the path specified: 'C:\\\\Users\\\\Uponika Barman Roy\\\\Desktop\\\\Semester1\\\\DA Projects\\\\group-Project\\\\data\\\\Training\\\\glioma'",
     "output_type": "error",
     "traceback": [
      "\u001b[1;31m---------------------------------------------------------------------------\u001b[0m",
      "\u001b[1;31mFileNotFoundError\u001b[0m                         Traceback (most recent call last)",
      "\u001b[1;32m<ipython-input-3-031bc743b6cc>\u001b[0m in \u001b[0;36m<module>\u001b[1;34m\u001b[0m\n\u001b[1;32m----> 1\u001b[1;33m \u001b[0mglimoa_train\u001b[0m \u001b[1;33m=\u001b[0m \u001b[0mos\u001b[0m\u001b[1;33m.\u001b[0m\u001b[0mlistdir\u001b[0m\u001b[1;33m(\u001b[0m\u001b[1;34mr\"C:\\Users\\Uponika Barman Roy\\Desktop\\Semester1\\DA Projects\\group-Project\\data\\Training\\glioma\"\u001b[0m\u001b[1;33m)\u001b[0m\u001b[1;33m\u001b[0m\u001b[1;33m\u001b[0m\u001b[0m\n\u001b[0m\u001b[0;32m      2\u001b[0m \u001b[0mmen_train\u001b[0m \u001b[1;33m=\u001b[0m  \u001b[0mos\u001b[0m\u001b[1;33m.\u001b[0m\u001b[0mlistdir\u001b[0m\u001b[1;33m(\u001b[0m\u001b[1;34mr\"C:\\Users\\Uponika Barman Roy\\Desktop\\Semester1\\DA Projects\\group-Project\\data\\Training\\meningioma\"\u001b[0m\u001b[1;33m)\u001b[0m\u001b[1;33m\u001b[0m\u001b[1;33m\u001b[0m\u001b[0m\n\u001b[0;32m      3\u001b[0m \u001b[0mnotumor_train\u001b[0m \u001b[1;33m=\u001b[0m \u001b[0mos\u001b[0m\u001b[1;33m.\u001b[0m\u001b[0mlistdir\u001b[0m\u001b[1;33m(\u001b[0m\u001b[1;34mr\"C:\\Users\\Uponika Barman Roy\\Desktop\\Semester1\\DA Projects\\group-Project\\data\\Training\\notumor\"\u001b[0m\u001b[1;33m)\u001b[0m\u001b[1;33m\u001b[0m\u001b[1;33m\u001b[0m\u001b[0m\n\u001b[0;32m      4\u001b[0m \u001b[0mpit_train\u001b[0m \u001b[1;33m=\u001b[0m  \u001b[0mos\u001b[0m\u001b[1;33m.\u001b[0m\u001b[0mlistdir\u001b[0m\u001b[1;33m(\u001b[0m\u001b[1;34mr\"C:\\Users\\Uponika Barman Roy\\Desktop\\Semester1\\DA Projects\\group-Project\\data\\Training\\pituitary\"\u001b[0m\u001b[1;33m)\u001b[0m\u001b[1;33m\u001b[0m\u001b[1;33m\u001b[0m\u001b[0m\n",
      "\u001b[1;31mFileNotFoundError\u001b[0m: [WinError 3] The system cannot find the path specified: 'C:\\\\Users\\\\Uponika Barman Roy\\\\Desktop\\\\Semester1\\\\DA Projects\\\\group-Project\\\\data\\\\Training\\\\glioma'"
     ]
    }
   ],
   "source": [
    "glimoa_train = os.listdir(r\"C:\\Users\\Uponika Barman Roy\\Desktop\\Semester1\\DA Projects\\group-Project\\data\\Training\\glioma\")\n",
    "men_train =  os.listdir(r\"C:\\Users\\Uponika Barman Roy\\Desktop\\Semester1\\DA Projects\\group-Project\\data\\Training\\meningioma\")\n",
    "notumor_train = os.listdir(r\"C:\\Users\\Uponika Barman Roy\\Desktop\\Semester1\\DA Projects\\group-Project\\data\\Training\\notumor\")\n",
    "pit_train =  os.listdir(r\"C:\\Users\\Uponika Barman Roy\\Desktop\\Semester1\\DA Projects\\group-Project\\data\\Training\\pituitary\")"
   ]
  },
  {
   "cell_type": "code",
   "execution_count": 4,
   "id": "82f3719b",
   "metadata": {},
   "outputs": [
    {
     "data": {
      "text/plain": [
       "<AxesSubplot:>"
      ]
     },
     "execution_count": 4,
     "metadata": {},
     "output_type": "execute_result"
    },
    {
     "data": {
      "image/png": "[encoded data removed]",
      "text/plain": [
       "<Figure size 432x288 with 1 Axes>"
      ]
     },
     "metadata": {
      "needs_background": "light"
     },
     "output_type": "display_data"
    }
   ],
   "source": [
    "labels = [\"Glioma\", \"Meningioma\", \"No tumor\", \"Pituitary\"]\n",
    "values = [len(glimoa_train), len(men_train), len(notumor_train), len(pit_train)]\n",
    "sns.barplot(x = labels, y = values, palette=\"coolwarm\")"
   ]
  },
  {
   "cell_type": "code",
   "execution_count": 5,
   "id": "d14d971a",
   "metadata": {},
   "outputs": [],
   "source": [
    "IMG_SIZE = 150\n",
    "training_data = []\n",
    "\n",
    "def create_training_data():\n",
    "    for category in CATEGORIES:\n",
    "        path = os.path.join(DATADIR,category)\n",
    "        class_num = CATEGORIES.index(category)\n",
    "        for img in os.listdir(path):\n",
    "            try:\n",
    "                img_array = cv2.imread(os.path.join(path,img),cv2.IMREAD_GRAYSCALE)\n",
    "                new_array = cv2.resize(img_array,(IMG_SIZE,IMG_SIZE)) \n",
    "                training_data.append([new_array,class_num])\n",
    "            except Exception as e:\n",
    "                pass\n",
    "create_training_data()"
   ]
  },
  {
   "cell_type": "code",
   "execution_count": 6,
   "id": "e53ecb42",
   "metadata": {},
   "outputs": [
    {
     "name": "stdout",
     "output_type": "stream",
     "text": [
      "(5712, 150, 150)\n"
     ]
    }
   ],
   "source": [
    "X = []\n",
    "y = []\n",
    "for features,label in training_data:\n",
    "    X.append(features)\n",
    "    y.append(label)\n",
    "X = np.array(X).reshape(-1,IMG_SIZE,IMG_SIZE)\n",
    "print(X.shape)\n",
    "X = X/255.0  \n",
    "X = X.reshape(-1,150,150,1)"
   ]
  },
  {
   "cell_type": "code",
   "execution_count": 7,
   "id": "9f3bf816",
   "metadata": {},
   "outputs": [],
   "source": [
    "from keras.utils.np_utils import to_categorical # convert to one-hot-encoding\n",
    "y = to_categorical(y, num_classes = 4)"
   ]
  },
  {
   "cell_type": "code",
   "execution_count": 8,
   "id": "45afeab6",
   "metadata": {},
   "outputs": [
    {
     "name": "stdout",
     "output_type": "stream",
     "text": [
      "x_train shape (5140, 150, 150, 1)\n",
      "x_test shape (572, 150, 150, 1)\n",
      "y_train shape (5140, 4)\n",
      "y_test shape (572, 4)\n"
     ]
    }
   ],
   "source": [
    "from sklearn.model_selection import train_test_split\n",
    "X_train, X_val, Y_train, Y_val = train_test_split(X, y, test_size = 0.1, random_state=42)\n",
    "print(\"x_train shape\",X_train.shape)\n",
    "print(\"x_test shape\",X_val.shape)\n",
    "print(\"y_train shape\",Y_train.shape)\n",
    "print(\"y_test shape\",Y_val.shape)"
   ]
  },
  {
   "cell_type": "markdown",
   "id": "4db1517e",
   "metadata": {},
   "source": [
    "### Test Data Preparation"
   ]
  },
  {
   "cell_type": "code",
   "execution_count": 9,
   "id": "14d4e0ee",
   "metadata": {},
   "outputs": [
    {
     "data": {
      "text/plain": [
       "<AxesSubplot:>"
      ]
     },
     "execution_count": 9,
     "metadata": {},
     "output_type": "execute_result"
    },
    {
     "data": {
      "image/png": "[encoded data removed]",
      "text/plain": [
       "<Figure size 432x288 with 1 Axes>"
      ]
     },
     "metadata": {
      "needs_background": "light"
     },
     "output_type": "display_data"
    }
   ],
   "source": [
    "testDir = r\"C:\\Users\\Uponika Barman Roy\\Desktop\\Semester1\\DA Projects\\group-Project\\data\\Testing\"\n",
    "testCategories = [\"glioma\",\"meningioma\",\"notumor\",\"pituitary\"]\n",
    "glimoa_test = os.listdir(r\"C:\\Users\\Uponika Barman Roy\\Desktop\\Semester1\\DA Projects\\group-Project\\data\\Testing\\glioma\")\n",
    "men_test =  os.listdir(r\"C:\\Users\\Uponika Barman Roy\\Desktop\\Semester1\\DA Projects\\group-Project\\data\\Testing\\meningioma\")\n",
    "notumor_test = os.listdir(r\"C:\\Users\\Uponika Barman Roy\\Desktop\\Semester1\\DA Projects\\group-Project\\data\\Testing\\notumor\")\n",
    "pit_test =  os.listdir(r\"C:\\Users\\Uponika Barman Roy\\Desktop\\Semester1\\DA Projects\\group-Project\\data\\Testing\\pituitary\")\n",
    "test_labels = [\"Glioma\", \"Meningioma\", \"No tumor\", \"Pituitary\"]\n",
    "test_values = [len(glimoa_test), len(men_test), len(notumor_test), len(pit_test)]\n",
    "sns.barplot(x = test_labels, y = test_values, palette=\"coolwarm\")"
   ]
  },
  {
   "cell_type": "code",
   "execution_count": 10,
   "id": "a7a2e4e6",
   "metadata": {},
   "outputs": [
    {
     "name": "stdout",
     "output_type": "stream",
     "text": [
      "{'glioma': 300, 'meningioma': 306, 'notumor': 405, 'pituitary': 300}\n"
     ]
    },
    {
     "data": {
      "application/vnd.plotly.v1+json": {
       "config": {
        "plotlyServerURL": "https://plot.ly"
       },
       "data": [
        {
         "domain": {
          "x": [
           0,
           1
          ],
          "y": [
           0,
           1
          ]
         },
         "hole": 0.05,
         "hovertemplate": "label=%{label}<br>value=%{value}<extra></extra>",
         "labels": [
          "glioma",
          "meningioma",
          "notumor",
          "pituitary"
         ],
         "legendgroup": "",
         "name": "",
         "showlegend": true,
         "type": "pie",
         "values": [
          300,
          306,
          405,
          300
         ]
        }
       ],
       "layout": {
        "legend": {
         "tracegroupgap": 0
        },
        "template": {
         "data": {
          "bar": [
           {
            "error_x": {
             "color": "#2a3f5f"
            },
            "error_y": {
             "color": "#2a3f5f"
            },
            "marker": {
             "line": {
              "color": "#E5ECF6",
              "width": 0.5
             },
             "pattern": {
              "fillmode": "overlay",
              "size": 10,
              "solidity": 0.2
             }
            },
            "type": "bar"
           }
          ],
          "barpolar": [
           {
            "marker": {
             "line": {
              "color": "#E5ECF6",
              "width": 0.5
             },
             "pattern": {
              "fillmode": "overlay",
              "size": 10,
              "solidity": 0.2
             }
            },
            "type": "barpolar"
           }
          ],
          "carpet": [
           {
            "aaxis": {
             "endlinecolor": "#2a3f5f",
             "gridcolor": "white",
             "linecolor": "white",
             "minorgridcolor": "white",
             "startlinecolor": "#2a3f5f"
            },
            "baxis": {
             "endlinecolor": "#2a3f5f",
             "gridcolor": "white",
             "linecolor": "white",
             "minorgridcolor": "white",
             "startlinecolor": "#2a3f5f"
            },
            "type": "carpet"
           }
          ],
          "choropleth": [
           {
            "colorbar": {
             "outlinewidth": 0,
             "ticks": ""
            },
            "type": "choropleth"
           }
          ],
          "contour": [
           {
            "colorbar": {
             "outlinewidth": 0,
             "ticks": ""
            },
            "colorscale": [
             [
              0,
              "#0d0887"
             ],
             [
              0.1111111111111111,
              "#46039f"
             ],
             [
              0.2222222222222222,
              "#7201a8"
             ],
             [
              0.3333333333333333,
              "#9c179e"
             ],
             [
              0.4444444444444444,
              "#bd3786"
             ],
             [
              0.5555555555555556,
              "#d8576b"
             ],
             [
              0.6666666666666666,
              "#ed7953"
             ],
             [
              0.7777777777777778,
              "#fb9f3a"
             ],
             [
              0.8888888888888888,
              "#fdca26"
             ],
             [
              1,
              "#f0f921"
             ]
            ],
            "type": "contour"
           }
          ],
          "contourcarpet": [
           {
            "colorbar": {
             "outlinewidth": 0,
             "ticks": ""
            },
            "type": "contourcarpet"
           }
          ],
          "heatmap": [
           {
            "colorbar": {
             "outlinewidth": 0,
             "ticks": ""
            },
            "colorscale": [
             [
              0,
              "#0d0887"
             ],
             [
              0.1111111111111111,
              "#46039f"
             ],
             [
              0.2222222222222222,
              "#7201a8"
             ],
             [
              0.3333333333333333,
              "#9c179e"
             ],
             [
              0.4444444444444444,
              "#bd3786"
             ],
             [
              0.5555555555555556,
              "#d8576b"
             ],
             [
              0.6666666666666666,
              "#ed7953"
             ],
             [
              0.7777777777777778,
              "#fb9f3a"
             ],
             [
              0.8888888888888888,
              "#fdca26"
             ],
             [
              1,
              "#f0f921"
             ]
            ],
            "type": "heatmap"
           }
          ],
          "heatmapgl": [
           {
            "colorbar": {
             "outlinewidth": 0,
             "ticks": ""
            },
            "colorscale": [
             [
              0,
              "#0d0887"
             ],
             [
              0.1111111111111111,
              "#46039f"
             ],
             [
              0.2222222222222222,
              "#7201a8"
             ],
             [
              0.3333333333333333,
              "#9c179e"
             ],
             [
              0.4444444444444444,
              "#bd3786"
             ],
             [
              0.5555555555555556,
              "#d8576b"
             ],
             [
              0.6666666666666666,
              "#ed7953"
             ],
             [
              0.7777777777777778,
              "#fb9f3a"
             ],
             [
              0.8888888888888888,
              "#fdca26"
             ],
             [
              1,
              "#f0f921"
             ]
            ],
            "type": "heatmapgl"
           }
          ],
          "histogram": [
           {
            "marker": {
             "pattern": {
              "fillmode": "overlay",
              "size": 10,
              "solidity": 0.2
             }
            },
            "type": "histogram"
           }
          ],
          "histogram2d": [
           {
            "colorbar": {
             "outlinewidth": 0,
             "ticks": ""
            },
            "colorscale": [
             [
              0,
              "#0d0887"
             ],
             [
              0.1111111111111111,
              "#46039f"
             ],
             [
              0.2222222222222222,
              "#7201a8"
             ],
             [
              0.3333333333333333,
              "#9c179e"
             ],
             [
              0.4444444444444444,
              "#bd3786"
             ],
             [
              0.5555555555555556,
              "#d8576b"
             ],
             [
              0.6666666666666666,
              "#ed7953"
             ],
             [
              0.7777777777777778,
              "#fb9f3a"
             ],
             [
              0.8888888888888888,
              "#fdca26"
             ],
             [
              1,
              "#f0f921"
             ]
            ],
            "type": "histogram2d"
           }
          ],
          "histogram2dcontour": [
           {
            "colorbar": {
             "outlinewidth": 0,
             "ticks": ""
            },
            "colorscale": [
             [
              0,
              "#0d0887"
             ],
             [
              0.1111111111111111,
              "#46039f"
             ],
             [
              0.2222222222222222,
              "#7201a8"
             ],
             [
              0.3333333333333333,
              "#9c179e"
             ],
             [
              0.4444444444444444,
              "#bd3786"
             ],
             [
              0.5555555555555556,
              "#d8576b"
             ],
             [
              0.6666666666666666,
              "#ed7953"
             ],
             [
              0.7777777777777778,
              "#fb9f3a"
             ],
             [
              0.8888888888888888,
              "#fdca26"
             ],
             [
              1,
              "#f0f921"
             ]
            ],
            "type": "histogram2dcontour"
           }
          ],
          "mesh3d": [
           {
            "colorbar": {
             "outlinewidth": 0,
             "ticks": ""
            },
            "type": "mesh3d"
           }
          ],
          "parcoords": [
           {
            "line": {
             "colorbar": {
              "outlinewidth": 0,
              "ticks": ""
             }
            },
            "type": "parcoords"
           }
          ],
          "pie": [
           {
            "automargin": true,
            "type": "pie"
           }
          ],
          "scatter": [
           {
            "fillpattern": {
             "fillmode": "overlay",
             "size": 10,
             "solidity": 0.2
            },
            "type": "scatter"
           }
          ],
          "scatter3d": [
           {
            "line": {
             "colorbar": {
              "outlinewidth": 0,
              "ticks": ""
             }
            },
            "marker": {
             "colorbar": {
              "outlinewidth": 0,
              "ticks": ""
             }
            },
            "type": "scatter3d"
           }
          ],
          "scattercarpet": [
           {
            "marker": {
             "colorbar": {
              "outlinewidth": 0,
              "ticks": ""
             }
            },
            "type": "scattercarpet"
           }
          ],
          "scattergeo": [
           {
            "marker": {
             "colorbar": {
              "outlinewidth": 0,
              "ticks": ""
             }
            },
            "type": "scattergeo"
           }
          ],
          "scattergl": [
           {
            "marker": {
             "colorbar": {
              "outlinewidth": 0,
              "ticks": ""
             }
            },
            "type": "scattergl"
           }
          ],
          "scattermapbox": [
           {
            "marker": {
             "colorbar": {
              "outlinewidth": 0,
              "ticks": ""
             }
            },
            "type": "scattermapbox"
           }
          ],
          "scatterpolar": [
           {
            "marker": {
             "colorbar": {
              "outlinewidth": 0,
              "ticks": ""
             }
            },
            "type": "scatterpolar"
           }
          ],
          "scatterpolargl": [
           {
            "marker": {
             "colorbar": {
              "outlinewidth": 0,
              "ticks": ""
             }
            },
            "type": "scatterpolargl"
           }
          ],
          "scatterternary": [
           {
            "marker": {
             "colorbar": {
              "outlinewidth": 0,
              "ticks": ""
             }
            },
            "type": "scatterternary"
           }
          ],
          "surface": [
           {
            "colorbar": {
             "outlinewidth": 0,
             "ticks": ""
            },
            "colorscale": [
             [
              0,
              "#0d0887"
             ],
             [
              0.1111111111111111,
              "#46039f"
             ],
             [
              0.2222222222222222,
              "#7201a8"
             ],
             [
              0.3333333333333333,
              "#9c179e"
             ],
             [
              0.4444444444444444,
              "#bd3786"
             ],
             [
              0.5555555555555556,
              "#d8576b"
             ],
             [
              0.6666666666666666,
              "#ed7953"
             ],
             [
              0.7777777777777778,
              "#fb9f3a"
             ],
             [
              0.8888888888888888,
              "#fdca26"
             ],
             [
              1,
              "#f0f921"
             ]
            ],
            "type": "surface"
           }
          ],
          "table": [
           {
            "cells": {
             "fill": {
              "color": "#EBF0F8"
             },
             "line": {
              "color": "white"
             }
            },
            "header": {
             "fill": {
              "color": "#C8D4E3"
             },
             "line": {
              "color": "white"
             }
            },
            "type": "table"
           }
          ]
         },
         "layout": {
          "annotationdefaults": {
           "arrowcolor": "#2a3f5f",
           "arrowhead": 0,
           "arrowwidth": 1
          },
          "autotypenumbers": "strict",
          "coloraxis": {
           "colorbar": {
            "outlinewidth": 0,
            "ticks": ""
           }
          },
          "colorscale": {
           "diverging": [
            [
             0,
             "#8e0152"
            ],
            [
             0.1,
             "#c51b7d"
            ],
            [
             0.2,
             "#de77ae"
            ],
            [
             0.3,
             "#f1b6da"
            ],
            [
             0.4,
             "#fde0ef"
            ],
            [
             0.5,
             "#f7f7f7"
            ],
            [
             0.6,
             "#e6f5d0"
            ],
            [
             0.7,
             "#b8e186"
            ],
            [
             0.8,
             "#7fbc41"
            ],
            [
             0.9,
             "#4d9221"
            ],
            [
             1,
             "#276419"
            ]
           ],
           "sequential": [
            [
             0,
             "#0d0887"
            ],
            [
             0.1111111111111111,
             "#46039f"
            ],
            [
             0.2222222222222222,
             "#7201a8"
            ],
            [
             0.3333333333333333,
             "#9c179e"
            ],
            [
             0.4444444444444444,
             "#bd3786"
            ],
            [
             0.5555555555555556,
             "#d8576b"
            ],
            [
             0.6666666666666666,
             "#ed7953"
            ],
            [
             0.7777777777777778,
             "#fb9f3a"
            ],
            [
             0.8888888888888888,
             "#fdca26"
            ],
            [
             1,
             "#f0f921"
            ]
           ],
           "sequentialminus": [
            [
             0,
             "#0d0887"
            ],
            [
             0.1111111111111111,
             "#46039f"
            ],
            [
             0.2222222222222222,
             "#7201a8"
            ],
            [
             0.3333333333333333,
             "#9c179e"
            ],
            [
             0.4444444444444444,
             "#bd3786"
            ],
            [
             0.5555555555555556,
             "#d8576b"
            ],
            [
             0.6666666666666666,
             "#ed7953"
            ],
            [
             0.7777777777777778,
             "#fb9f3a"
            ],
            [
             0.8888888888888888,
             "#fdca26"
            ],
            [
             1,
             "#f0f921"
            ]
           ]
          },
          "colorway": [
           "#636efa",
           "#EF553B",
           "#00cc96",
           "#ab63fa",
           "#FFA15A",
           "#19d3f3",
           "#FF6692",
           "#B6E880",
           "#FF97FF",
           "#FECB52"
          ],
          "font": {
           "color": "#2a3f5f"
          },
          "geo": {
           "bgcolor": "white",
           "lakecolor": "white",
           "landcolor": "#E5ECF6",
           "showlakes": true,
           "showland": true,
           "subunitcolor": "white"
          },
          "hoverlabel": {
           "align": "left"
          },
          "hovermode": "closest",
          "mapbox": {
           "style": "light"
          },
          "paper_bgcolor": "white",
          "plot_bgcolor": "#E5ECF6",
          "polar": {
           "angularaxis": {
            "gridcolor": "white",
            "linecolor": "white",
            "ticks": ""
           },
           "bgcolor": "#E5ECF6",
           "radialaxis": {
            "gridcolor": "white",
            "linecolor": "white",
            "ticks": ""
           }
          },
          "scene": {
           "xaxis": {
            "backgroundcolor": "#E5ECF6",
            "gridcolor": "white",
            "gridwidth": 2,
            "linecolor": "white",
            "showbackground": true,
            "ticks": "",
            "zerolinecolor": "white"
           },
           "yaxis": {
            "backgroundcolor": "#E5ECF6",
            "gridcolor": "white",
            "gridwidth": 2,
            "linecolor": "white",
            "showbackground": true,
            "ticks": "",
            "zerolinecolor": "white"
           },
           "zaxis": {
            "backgroundcolor": "#E5ECF6",
            "gridcolor": "white",
            "gridwidth": 2,
            "linecolor": "white",
            "showbackground": true,
            "ticks": "",
            "zerolinecolor": "white"
           }
          },
          "shapedefaults": {
           "line": {
            "color": "#2a3f5f"
           }
          },
          "ternary": {
           "aaxis": {
            "gridcolor": "white",
            "linecolor": "white",
            "ticks": ""
           },
           "baxis": {
            "gridcolor": "white",
            "linecolor": "white",
            "ticks": ""
           },
           "bgcolor": "#E5ECF6",
           "caxis": {
            "gridcolor": "white",
            "linecolor": "white",
            "ticks": ""
           }
          },
          "title": {
           "x": 0.05
          },
          "xaxis": {
           "automargin": true,
           "gridcolor": "white",
           "linecolor": "white",
           "ticks": "",
           "title": {
            "standoff": 15
           },
           "zerolinecolor": "white",
           "zerolinewidth": 2
          },
          "yaxis": {
           "automargin": true,
           "gridcolor": "white",
           "linecolor": "white",
           "ticks": "",
           "title": {
            "standoff": 15
           },
           "zerolinecolor": "white",
           "zerolinewidth": 2
          }
         }
        },
        "title": {
         "text": "Test CLasses Info",
         "x": 0.1
        }
       }
      },
      "text/html": [
       "<div>                            <div id=\"7d29de5c-4c18-4c82-8346-42720654d7de\" class=\"plotly-graph-div\" style=\"height:525px; width:100%;\"></div>            <script type=\"text/javascript\">                require([\"plotly\"], function(Plotly) {                    window.PLOTLYENV=window.PLOTLYENV || {};                                    if (document.getElementById(\"7d29de5c-4c18-4c82-8346-42720654d7de\")) {                    Plotly.newPlot(                        \"7d29de5c-4c18-4c82-8346-42720654d7de\",                        [{\"domain\":{\"x\":[0.0,1.0],\"y\":[0.0,1.0]},\"hole\":0.05,\"hovertemplate\":\"label=%{label}<br>value=%{value}<extra></extra>\",\"labels\":[\"glioma\",\"meningioma\",\"notumor\",\"pituitary\"],\"legendgroup\":\"\",\"name\":\"\",\"showlegend\":true,\"values\":[300,306,405,300],\"type\":\"pie\"}],                        {\"template\":{\"data\":{\"histogram2dcontour\":[{\"type\":\"histogram2dcontour\",\"colorbar\":{\"outlinewidth\":0,\"ticks\":\"\"},\"colorscale\":[[0.0,\"#0d0887\"],[0.1111111111111111,\"#46039f\"],[0.2222222222222222,\"#7201a8\"],[0.3333333333333333,\"#9c179e\"],[0.4444444444444444,\"#bd3786\"],[0.5555555555555556,\"#d8576b\"],[0.6666666666666666,\"#ed7953\"],[0.7777777777777778,\"#fb9f3a\"],[0.8888888888888888,\"#fdca26\"],[1.0,\"#f0f921\"]]}],\"choropleth\":[{\"type\":\"choropleth\",\"colorbar\":{\"outlinewidth\":0,\"ticks\":\"\"}}],\"histogram2d\":[{\"type\":\"histogram2d\",\"colorbar\":{\"outlinewidth\":0,\"ticks\":\"\"},\"colorscale\":[[0.0,\"#0d0887\"],[0.1111111111111111,\"#46039f\"],[0.2222222222222222,\"#7201a8\"],[0.3333333333333333,\"#9c179e\"],[0.4444444444444444,\"#bd3786\"],[0.5555555555555556,\"#d8576b\"],[0.6666666666666666,\"#ed7953\"],[0.7777777777777778,\"#fb9f3a\"],[0.8888888888888888,\"#fdca26\"],[1.0,\"#f0f921\"]]}],\"heatmap\":[{\"type\":\"heatmap\",\"colorbar\":{\"outlinewidth\":0,\"ticks\":\"\"},\"colorscale\":[[0.0,\"#0d0887\"],[0.1111111111111111,\"#46039f\"],[0.2222222222222222,\"#7201a8\"],[0.3333333333333333,\"#9c179e\"],[0.4444444444444444,\"#bd3786\"],[0.5555555555555556,\"#d8576b\"],[0.6666666666666666,\"#ed7953\"],[0.7777777777777778,\"#fb9f3a\"],[0.8888888888888888,\"#fdca26\"],[1.0,\"#f0f921\"]]}],\"heatmapgl\":[{\"type\":\"heatmapgl\",\"colorbar\":{\"outlinewidth\":0,\"ticks\":\"\"},\"colorscale\":[[0.0,\"#0d0887\"],[0.1111111111111111,\"#46039f\"],[0.2222222222222222,\"#7201a8\"],[0.3333333333333333,\"#9c179e\"],[0.4444444444444444,\"#bd3786\"],[0.5555555555555556,\"#d8576b\"],[0.6666666666666666,\"#ed7953\"],[0.7777777777777778,\"#fb9f3a\"],[0.8888888888888888,\"#fdca26\"],[1.0,\"#f0f921\"]]}],\"contourcarpet\":[{\"type\":\"contourcarpet\",\"colorbar\":{\"outlinewidth\":0,\"ticks\":\"\"}}],\"contour\":[{\"type\":\"contour\",\"colorbar\":{\"outlinewidth\":0,\"ticks\":\"\"},\"colorscale\":[[0.0,\"#0d0887\"],[0.1111111111111111,\"#46039f\"],[0.2222222222222222,\"#7201a8\"],[0.3333333333333333,\"#9c179e\"],[0.4444444444444444,\"#bd3786\"],[0.5555555555555556,\"#d8576b\"],[0.6666666666666666,\"#ed7953\"],[0.7777777777777778,\"#fb9f3a\"],[0.8888888888888888,\"#fdca26\"],[1.0,\"#f0f921\"]]}],\"surface\":[{\"type\":\"surface\",\"colorbar\":{\"outlinewidth\":0,\"ticks\":\"\"},\"colorscale\":[[0.0,\"#0d0887\"],[0.1111111111111111,\"#46039f\"],[0.2222222222222222,\"#7201a8\"],[0.3333333333333333,\"#9c179e\"],[0.4444444444444444,\"#bd3786\"],[0.5555555555555556,\"#d8576b\"],[0.6666666666666666,\"#ed7953\"],[0.7777777777777778,\"#fb9f3a\"],[0.8888888888888888,\"#fdca26\"],[1.0,\"#f0f921\"]]}],\"mesh3d\":[{\"type\":\"mesh3d\",\"colorbar\":{\"outlinewidth\":0,\"ticks\":\"\"}}],\"scatter\":[{\"fillpattern\":{\"fillmode\":\"overlay\",\"size\":10,\"solidity\":0.2},\"type\":\"scatter\"}],\"parcoords\":[{\"type\":\"parcoords\",\"line\":{\"colorbar\":{\"outlinewidth\":0,\"ticks\":\"\"}}}],\"scatterpolargl\":[{\"type\":\"scatterpolargl\",\"marker\":{\"colorbar\":{\"outlinewidth\":0,\"ticks\":\"\"}}}],\"bar\":[{\"error_x\":{\"color\":\"#2a3f5f\"},\"error_y\":{\"color\":\"#2a3f5f\"},\"marker\":{\"line\":{\"color\":\"#E5ECF6\",\"width\":0.5},\"pattern\":{\"fillmode\":\"overlay\",\"size\":10,\"solidity\":0.2}},\"type\":\"bar\"}],\"scattergeo\":[{\"type\":\"scattergeo\",\"marker\":{\"colorbar\":{\"outlinewidth\":0,\"ticks\":\"\"}}}],\"scatterpolar\":[{\"type\":\"scatterpolar\",\"marker\":{\"colorbar\":{\"outlinewidth\":0,\"ticks\":\"\"}}}],\"histogram\":[{\"marker\":{\"pattern\":{\"fillmode\":\"overlay\",\"size\":10,\"solidity\":0.2}},\"type\":\"histogram\"}],\"scattergl\":[{\"type\":\"scattergl\",\"marker\":{\"colorbar\":{\"outlinewidth\":0,\"ticks\":\"\"}}}],\"scatter3d\":[{\"type\":\"scatter3d\",\"line\":{\"colorbar\":{\"outlinewidth\":0,\"ticks\":\"\"}},\"marker\":{\"colorbar\":{\"outlinewidth\":0,\"ticks\":\"\"}}}],\"scattermapbox\":[{\"type\":\"scattermapbox\",\"marker\":{\"colorbar\":{\"outlinewidth\":0,\"ticks\":\"\"}}}],\"scatterternary\":[{\"type\":\"scatterternary\",\"marker\":{\"colorbar\":{\"outlinewidth\":0,\"ticks\":\"\"}}}],\"scattercarpet\":[{\"type\":\"scattercarpet\",\"marker\":{\"colorbar\":{\"outlinewidth\":0,\"ticks\":\"\"}}}],\"carpet\":[{\"aaxis\":{\"endlinecolor\":\"#2a3f5f\",\"gridcolor\":\"white\",\"linecolor\":\"white\",\"minorgridcolor\":\"white\",\"startlinecolor\":\"#2a3f5f\"},\"baxis\":{\"endlinecolor\":\"#2a3f5f\",\"gridcolor\":\"white\",\"linecolor\":\"white\",\"minorgridcolor\":\"white\",\"startlinecolor\":\"#2a3f5f\"},\"type\":\"carpet\"}],\"table\":[{\"cells\":{\"fill\":{\"color\":\"#EBF0F8\"},\"line\":{\"color\":\"white\"}},\"header\":{\"fill\":{\"color\":\"#C8D4E3\"},\"line\":{\"color\":\"white\"}},\"type\":\"table\"}],\"barpolar\":[{\"marker\":{\"line\":{\"color\":\"#E5ECF6\",\"width\":0.5},\"pattern\":{\"fillmode\":\"overlay\",\"size\":10,\"solidity\":0.2}},\"type\":\"barpolar\"}],\"pie\":[{\"automargin\":true,\"type\":\"pie\"}]},\"layout\":{\"autotypenumbers\":\"strict\",\"colorway\":[\"#636efa\",\"#EF553B\",\"#00cc96\",\"#ab63fa\",\"#FFA15A\",\"#19d3f3\",\"#FF6692\",\"#B6E880\",\"#FF97FF\",\"#FECB52\"],\"font\":{\"color\":\"#2a3f5f\"},\"hovermode\":\"closest\",\"hoverlabel\":{\"align\":\"left\"},\"paper_bgcolor\":\"white\",\"plot_bgcolor\":\"#E5ECF6\",\"polar\":{\"bgcolor\":\"#E5ECF6\",\"angularaxis\":{\"gridcolor\":\"white\",\"linecolor\":\"white\",\"ticks\":\"\"},\"radialaxis\":{\"gridcolor\":\"white\",\"linecolor\":\"white\",\"ticks\":\"\"}},\"ternary\":{\"bgcolor\":\"#E5ECF6\",\"aaxis\":{\"gridcolor\":\"white\",\"linecolor\":\"white\",\"ticks\":\"\"},\"baxis\":{\"gridcolor\":\"white\",\"linecolor\":\"white\",\"ticks\":\"\"},\"caxis\":{\"gridcolor\":\"white\",\"linecolor\":\"white\",\"ticks\":\"\"}},\"coloraxis\":{\"colorbar\":{\"outlinewidth\":0,\"ticks\":\"\"}},\"colorscale\":{\"sequential\":[[0.0,\"#0d0887\"],[0.1111111111111111,\"#46039f\"],[0.2222222222222222,\"#7201a8\"],[0.3333333333333333,\"#9c179e\"],[0.4444444444444444,\"#bd3786\"],[0.5555555555555556,\"#d8576b\"],[0.6666666666666666,\"#ed7953\"],[0.7777777777777778,\"#fb9f3a\"],[0.8888888888888888,\"#fdca26\"],[1.0,\"#f0f921\"]],\"sequentialminus\":[[0.0,\"#0d0887\"],[0.1111111111111111,\"#46039f\"],[0.2222222222222222,\"#7201a8\"],[0.3333333333333333,\"#9c179e\"],[0.4444444444444444,\"#bd3786\"],[0.5555555555555556,\"#d8576b\"],[0.6666666666666666,\"#ed7953\"],[0.7777777777777778,\"#fb9f3a\"],[0.8888888888888888,\"#fdca26\"],[1.0,\"#f0f921\"]],\"diverging\":[[0,\"#8e0152\"],[0.1,\"#c51b7d\"],[0.2,\"#de77ae\"],[0.3,\"#f1b6da\"],[0.4,\"#fde0ef\"],[0.5,\"#f7f7f7\"],[0.6,\"#e6f5d0\"],[0.7,\"#b8e186\"],[0.8,\"#7fbc41\"],[0.9,\"#4d9221\"],[1,\"#276419\"]]},\"xaxis\":{\"gridcolor\":\"white\",\"linecolor\":\"white\",\"ticks\":\"\",\"title\":{\"standoff\":15},\"zerolinecolor\":\"white\",\"automargin\":true,\"zerolinewidth\":2},\"yaxis\":{\"gridcolor\":\"white\",\"linecolor\":\"white\",\"ticks\":\"\",\"title\":{\"standoff\":15},\"zerolinecolor\":\"white\",\"automargin\":true,\"zerolinewidth\":2},\"scene\":{\"xaxis\":{\"backgroundcolor\":\"#E5ECF6\",\"gridcolor\":\"white\",\"linecolor\":\"white\",\"showbackground\":true,\"ticks\":\"\",\"zerolinecolor\":\"white\",\"gridwidth\":2},\"yaxis\":{\"backgroundcolor\":\"#E5ECF6\",\"gridcolor\":\"white\",\"linecolor\":\"white\",\"showbackground\":true,\"ticks\":\"\",\"zerolinecolor\":\"white\",\"gridwidth\":2},\"zaxis\":{\"backgroundcolor\":\"#E5ECF6\",\"gridcolor\":\"white\",\"linecolor\":\"white\",\"showbackground\":true,\"ticks\":\"\",\"zerolinecolor\":\"white\",\"gridwidth\":2}},\"shapedefaults\":{\"line\":{\"color\":\"#2a3f5f\"}},\"annotationdefaults\":{\"arrowcolor\":\"#2a3f5f\",\"arrowhead\":0,\"arrowwidth\":1},\"geo\":{\"bgcolor\":\"white\",\"landcolor\":\"#E5ECF6\",\"subunitcolor\":\"white\",\"showland\":true,\"showlakes\":true,\"lakecolor\":\"white\"},\"title\":{\"x\":0.05},\"mapbox\":{\"style\":\"light\"}}},\"legend\":{\"tracegroupgap\":0},\"title\":{\"text\":\"Test CLasses Info\",\"x\":0.1}},                        {\"responsive\": true}                    ).then(function(){\n",
       "                            \n",
       "var gd = document.getElementById('7d29de5c-4c18-4c82-8346-42720654d7de');\n",
       "var x = new MutationObserver(function (mutations, observer) {{\n",
       "        var display = window.getComputedStyle(gd).display;\n",
       "        if (!display || display === 'none') {{\n",
       "            console.log([gd, 'removed!']);\n",
       "            Plotly.purge(gd);\n",
       "            observer.disconnect();\n",
       "        }}\n",
       "}});\n",
       "\n",
       "// Listen for the removal of the full notebook cells\n",
       "var notebookContainer = gd.closest('#notebook-container');\n",
       "if (notebookContainer) {{\n",
       "    x.observe(notebookContainer, {childList: true});\n",
       "}}\n",
       "\n",
       "// Listen for the clearing of the current output cell\n",
       "var outputEl = gd.closest('.output');\n",
       "if (outputEl) {{\n",
       "    x.observe(outputEl, {childList: true});\n",
       "}}\n",
       "\n",
       "                        })                };                });            </script>        </div>"
      ]
     },
     "metadata": {},
     "output_type": "display_data"
    }
   ],
   "source": [
    "test_classes_info = {}\n",
    "classes = sorted(os.listdir(testDir))\n",
    "for name in classes:\n",
    "    test_classes_info[name] = len(os.listdir(testDir + f'/{name}'))\n",
    "print(test_classes_info)\n",
    "fig = px.pie(names=test_classes_info.keys(),values=test_classes_info.values(),hole=0.05,title='Test CLasses Info')\n",
    "fig.update_layout({'title':{\"x\":0.1}})\n",
    "fig.show()"
   ]
  },
  {
   "cell_type": "code",
   "execution_count": 11,
   "id": "706774b6",
   "metadata": {},
   "outputs": [],
   "source": [
    "IMG_SIZE = 150\n",
    "testing_data = []\n",
    "\n",
    "def create_testing_data():\n",
    "    for category in testCategories:\n",
    "        path = os.path.join(testDir,category)\n",
    "        class_num = CATEGORIES.index(category)\n",
    "        for img in os.listdir(path):\n",
    "            try:\n",
    "                img_array = cv2.imread(os.path.join(path,img),cv2.IMREAD_GRAYSCALE)\n",
    "                new_array = cv2.resize(img_array,(IMG_SIZE,IMG_SIZE)) \n",
    "                testing_data.append([new_array,class_num])\n",
    "            except Exception as e:\n",
    "                pass\n",
    "create_testing_data()\n"
   ]
  },
  {
   "cell_type": "code",
   "execution_count": 12,
   "id": "6ed2300b",
   "metadata": {},
   "outputs": [
    {
     "name": "stdout",
     "output_type": "stream",
     "text": [
      "(1311, 150, 150)\n"
     ]
    }
   ],
   "source": [
    "X_test = []\n",
    "y_test = []\n",
    "for features_test,test_labels in testing_data:\n",
    "    X_test.append(features_test)\n",
    "    y_test.append(test_labels)\n",
    "X_test = np.array(X_test).reshape(-1,IMG_SIZE,IMG_SIZE)\n",
    "print(X_test.shape)\n",
    "X_test = X_test/255.0  \n",
    "X_test = X_test.reshape(-1,150,150,1)\n",
    "\n",
    "y_test = to_categorical(y_test, num_classes = 4)\n",
    "Y_test = np.argmax(y_test,axis=1)"
   ]
  },
  {
   "cell_type": "markdown",
   "id": "835ed057",
   "metadata": {},
   "source": [
    "### Importing Necessary libraries for model preparation"
   ]
  },
  {
   "cell_type": "code",
   "execution_count": 13,
   "id": "da26ae94",
   "metadata": {},
   "outputs": [],
   "source": [
    "from sklearn.metrics import confusion_matrix\n",
    "import itertools\n",
    "from tensorflow import keras\n",
    "import tensorflow as tf\n",
    "from keras.utils.np_utils import to_categorical \n",
    "from keras.models import Sequential\n",
    "from keras.layers import Dense, Dropout, Flatten, Conv2D, MaxPool2D\n",
    "from tensorflow.keras.optimizers import RMSprop ,Adam\n",
    "from keras.preprocessing.image import ImageDataGenerator\n",
    "from keras.callbacks import ReduceLROnPlateau\n",
    "from keras.layers import Flatten,Activation\n",
    "from sklearn.metrics import classification_report"
   ]
  },
  {
   "cell_type": "markdown",
   "id": "9854b751",
   "metadata": {},
   "source": [
    "### Base Model"
   ]
  },
  {
   "cell_type": "code",
   "execution_count": 29,
   "id": "9fa59f41",
   "metadata": {},
   "outputs": [],
   "source": [
    "model1 =Sequential()\n",
    "#4convolution layers and 2 maxpoollayer\n",
    "model1.add(Conv2D(filters=32,kernel_size=5,input_shape=(150,150,1)))\n",
    "model1.add(Activation('relu'))\n",
    "\n",
    "model1.add(Conv2D(filters=32,kernel_size=4,input_shape=(150,150,1)))\n",
    "model1.add(Activation('relu'))\n",
    "\n",
    "model1.add(MaxPool2D(pool_size=3))\n",
    "\n",
    "model1.add(Conv2D(filters=25,kernel_size=3,input_shape=(100,100,1)))\n",
    "model1.add(Activation('relu'))\n",
    "\n",
    "model1.add(Conv2D(filters=25,kernel_size=2,input_shape=(50,50,3)))\n",
    "model1.add(Activation('relu'))\n",
    "\n",
    "model1.add(MaxPool2D(pool_size=3))\n",
    "#flatten layer\n",
    "model1.add(Flatten())\n",
    "#Deeeper hidden layer\n",
    "model1.add(Dense(250))\n",
    "model1.add(Activation('relu'))\n",
    "#output layer\n",
    "model1.add(Dense(4))\n",
    "model1.add(Activation('softmax'))\n",
    "model1.compile(optimizer='adam',loss='categorical_crossentropy',metrics=['accuracy'])\n",
    "epochs= 5"
   ]
  },
  {
   "cell_type": "code",
   "execution_count": 30,
   "id": "2a91e57f",
   "metadata": {},
   "outputs": [
    {
     "name": "stdout",
     "output_type": "stream",
     "text": [
      "Epoch 1/5\n",
      "161/161 [==============================] - 155s 960ms/step - loss: 0.7093 - accuracy: 0.7148 - val_loss: 0.4197 - val_accuracy: 0.8357\n",
      "Epoch 2/5\n",
      "161/161 [==============================] - 162s 1s/step - loss: 0.3899 - accuracy: 0.8570 - val_loss: 0.3619 - val_accuracy: 0.8497\n",
      "Epoch 3/5\n",
      "161/161 [==============================] - 166s 1s/step - loss: 0.2895 - accuracy: 0.8887 - val_loss: 0.2906 - val_accuracy: 0.8934\n",
      "Epoch 4/5\n",
      "161/161 [==============================] - 155s 963ms/step - loss: 0.2037 - accuracy: 0.9241 - val_loss: 0.2287 - val_accuracy: 0.9143\n",
      "Epoch 5/5\n",
      "161/161 [==============================] - 153s 950ms/step - loss: 0.1519 - accuracy: 0.9416 - val_loss: 0.2124 - val_accuracy: 0.9143\n"
     ]
    }
   ],
   "source": [
    "history1 = model1.fit(X_train,Y_train,epochs=epochs,validation_data=(X_val,Y_val))"
   ]
  },
  {
   "cell_type": "code",
   "execution_count": 7,
   "id": "a3c5e3b5",
   "metadata": {
    "scrolled": true
   },
   "outputs": [
    {
     "ename": "NameError",
     "evalue": "name 'model1' is not defined",
     "output_type": "error",
     "traceback": [
      "\u001b[1;31m---------------------------------------------------------------------------\u001b[0m",
      "\u001b[1;31mNameError\u001b[0m                                 Traceback (most recent call last)",
      "\u001b[1;32m<ipython-input-7-e8b3ccea764b>\u001b[0m in \u001b[0;36m<module>\u001b[1;34m\u001b[0m\n\u001b[1;32m----> 1\u001b[1;33m \u001b[0mmodel1\u001b[0m\u001b[1;33m.\u001b[0m\u001b[0msummary\u001b[0m\u001b[1;33m(\u001b[0m\u001b[1;33m)\u001b[0m\u001b[1;33m\u001b[0m\u001b[1;33m\u001b[0m\u001b[0m\n\u001b[0m",
      "\u001b[1;31mNameError\u001b[0m: name 'model1' is not defined"
     ]
    }
   ],
   "source": [
    "model1.summary()"
   ]
  },
  {
   "cell_type": "code",
   "execution_count": 32,
   "id": "221c86a3",
   "metadata": {},
   "outputs": [
    {
     "data": {
      "image/png": "[encoded data removed]",
      "text/plain": [
       "<Figure size 432x288 with 1 Axes>"
      ]
     },
     "metadata": {
      "needs_background": "light"
     },
     "output_type": "display_data"
    }
   ],
   "source": [
    "plt.plot(history1.history[\"loss\"],c = \"red\")\n",
    "plt.plot(history1.history[\"val_loss\"],c = \"green\")\n",
    "plt.title(\"Loss\")\n",
    "plt.ylabel(\"Loss\")\n",
    "plt.xlabel(\"Epochs\")\n",
    "plt.legend([\"train\", \"test\"])\n",
    "plt.show()"
   ]
  },
  {
   "cell_type": "code",
   "execution_count": 33,
   "id": "d1db9e5d",
   "metadata": {},
   "outputs": [
    {
     "data": {
      "image/png": "[encoded data removed]",
      "text/plain": [
       "<Figure size 432x288 with 1 Axes>"
      ]
     },
     "metadata": {
      "needs_background": "light"
     },
     "output_type": "display_data"
    }
   ],
   "source": [
    "plt.plot(history1.history[\"accuracy\"],c = \"red\")\n",
    "plt.plot(history1.history[\"val_accuracy\"],c = \"green\")\n",
    "plt.title(\"Accuracy\")\n",
    "plt.ylabel(\"Accuracy\")\n",
    "plt.xlabel(\"Epochs\")\n",
    "plt.legend([\"train\", \"test\"])\n",
    "plt.show()"
   ]
  },
  {
   "cell_type": "code",
   "execution_count": 34,
   "id": "c2caafb5",
   "metadata": {},
   "outputs": [],
   "source": [
    "model1.save('brain_tumor1.h5')"
   ]
  },
  {
   "cell_type": "code",
   "execution_count": 35,
   "id": "c680d10f",
   "metadata": {},
   "outputs": [
    {
     "name": "stdout",
     "output_type": "stream",
     "text": [
      "41/41 [==============================] - 5s 114ms/step\n"
     ]
    },
    {
     "data": {
      "text/plain": [
       "array([0, 0, 0, ..., 3, 3, 3], dtype=int64)"
      ]
     },
     "execution_count": 35,
     "metadata": {},
     "output_type": "execute_result"
    }
   ],
   "source": [
    "predict_x_test1 =model1.predict(X_test) \n",
    "classes_x_test1 =np.argmax(predict_x_test1,axis=1)\n",
    "classes_x_test1"
   ]
  },
  {
   "cell_type": "code",
   "execution_count": 36,
   "id": "96c044cd",
   "metadata": {},
   "outputs": [
    {
     "name": "stdout",
     "output_type": "stream",
     "text": [
      "              precision    recall  f1-score   support\n",
      "\n",
      "      glioma       0.93      0.86      0.89       300\n",
      "  meningioma       0.85      0.84      0.85       306\n",
      "     notumor       0.97      0.98      0.97       405\n",
      "   pituitary       0.93      0.99      0.96       300\n",
      "\n",
      "    accuracy                           0.92      1311\n",
      "   macro avg       0.92      0.92      0.92      1311\n",
      "weighted avg       0.92      0.92      0.92      1311\n",
      "\n"
     ]
    }
   ],
   "source": [
    "print(classification_report(Y_test,classes_x_test1,target_names=classes))"
   ]
  },
  {
   "cell_type": "code",
   "execution_count": 129,
   "id": "4f99c62f",
   "metadata": {},
   "outputs": [
    {
     "name": "stdout",
     "output_type": "stream",
     "text": [
      "Confusion Matrix\n"
     ]
    },
    {
     "data": {
      "text/plain": [
       "Text(70.8, 0.5, 'Predicted class')"
      ]
     },
     "execution_count": 129,
     "metadata": {},
     "output_type": "execute_result"
    },
    {
     "data": {
      "image/png": "[encoded data removed]",
      "text/plain": [
       "<Figure size 734.4x583.2 with 2 Axes>"
      ]
     },
     "metadata": {
      "needs_background": "light"
     },
     "output_type": "display_data"
    }
   ],
   "source": [
    "print('Confusion Matrix')\n",
    "cm = confusion_matrix(Y_test, classes_x_test1)\n",
    "fig,ax= plt.subplots(figsize=(10.2,8.1))\n",
    "a=sns.color_palette(\"winter_r\")  #_r inverts the palette\n",
    "sns.heatmap(cm, annot=True,fmt='g',linewidths=1,linecolor='white',robust=True,annot_kws={\"size\":18},cmap=a)\n",
    "#annot_kws: settings about annotations\n",
    "ax.xaxis.set_ticklabels(classes); ax.yaxis.set_ticklabels(classes);\n",
    "plt.yticks(va=\"center\")\n",
    "plt.title('Confusion Matrix',fontsize=18,pad=18)\n",
    "plt.xlabel('Actual class',labelpad=22,fontsize=14)\n",
    "plt.ylabel('Predicted class',labelpad=22,fontsize=14)"
   ]
  },
  {
   "cell_type": "markdown",
   "id": "3320a6bf",
   "metadata": {},
   "source": [
    "### Tuning 1\n",
    "\n",
    "An early stopping concept is used for epoch 10 which is increased from the base model where epoch was 5"
   ]
  },
  {
   "cell_type": "code",
   "execution_count": 18,
   "id": "547e3ea9",
   "metadata": {},
   "outputs": [
    {
     "name": "stderr",
     "output_type": "stream",
     "text": [
      "WARNING:absl:`lr` is deprecated, please use `learning_rate` instead, or use the legacy optimizer, e.g.,tf.keras.optimizers.legacy.Adam.\n"
     ]
    }
   ],
   "source": [
    "model2 =Sequential()\n",
    "#4convolution layers and 2 maxpoollayer\n",
    "model2.add(Conv2D(filters=32,kernel_size=5,input_shape=(150,150,1)))\n",
    "model2.add(Activation('relu'))\n",
    "\n",
    "model2.add(Conv2D(filters=32,kernel_size=4,input_shape=(150,150,1)))\n",
    "model2.add(Activation('relu'))\n",
    "\n",
    "model2.add(MaxPool2D(pool_size=3))\n",
    "\n",
    "model2.add(Conv2D(filters=25,kernel_size=3,input_shape=(100,100,1)))\n",
    "model2.add(Activation('relu'))\n",
    "\n",
    "model2.add(Conv2D(filters=25,kernel_size=2,input_shape=(50,50,3)))\n",
    "model2.add(Activation('relu'))\n",
    "\n",
    "model2.add(MaxPool2D(pool_size=3))\n",
    "#flatten layer\n",
    "model2.add(Flatten())\n",
    "#Deeeper hidden layer\n",
    "model2.add(Dense(250))\n",
    "model2.add(Activation('relu'))\n",
    "#output layer\n",
    "model2.add(Dense(4))\n",
    "model2.add(Activation('softmax'))\n",
    "model2.compile(optimizer = Adam(lr=0.0001, beta_1=0.9, beta_2=0.999),loss='categorical_crossentropy',metrics=['accuracy'])\n",
    "epochs= 10"
   ]
  },
  {
   "cell_type": "code",
   "execution_count": 19,
   "id": "a0a1e6ba",
   "metadata": {},
   "outputs": [],
   "source": [
    "from keras.callbacks import EarlyStopping\n",
    "\n",
    "early_stop=EarlyStopping(monitor='val_loss',patience=3)"
   ]
  },
  {
   "cell_type": "code",
   "execution_count": 20,
   "id": "0323a7b0",
   "metadata": {},
   "outputs": [
    {
     "name": "stdout",
     "output_type": "stream",
     "text": [
      "Epoch 1/10\n",
      "161/161 [==============================] - 157s 970ms/step - loss: 0.6838 - accuracy: 0.7163 - val_loss: 0.4118 - val_accuracy: 0.8654\n",
      "Epoch 2/10\n",
      "161/161 [==============================] - 162s 1s/step - loss: 0.3872 - accuracy: 0.8531 - val_loss: 0.3071 - val_accuracy: 0.9021\n",
      "Epoch 3/10\n",
      "161/161 [==============================] - 158s 981ms/step - loss: 0.2464 - accuracy: 0.9099 - val_loss: 0.2625 - val_accuracy: 0.9108\n",
      "Epoch 4/10\n",
      "161/161 [==============================] - 156s 967ms/step - loss: 0.1630 - accuracy: 0.9411 - val_loss: 0.2717 - val_accuracy: 0.9143\n",
      "Epoch 5/10\n",
      "161/161 [==============================] - 156s 970ms/step - loss: 0.1005 - accuracy: 0.9642 - val_loss: 0.2445 - val_accuracy: 0.9301\n",
      "Epoch 6/10\n",
      "161/161 [==============================] - 156s 967ms/step - loss: 0.0790 - accuracy: 0.9724 - val_loss: 0.2526 - val_accuracy: 0.9336\n",
      "Epoch 7/10\n",
      "161/161 [==============================] - 153s 948ms/step - loss: 0.0676 - accuracy: 0.9778 - val_loss: 0.2453 - val_accuracy: 0.9231\n",
      "Epoch 8/10\n",
      "161/161 [==============================] - 157s 974ms/step - loss: 0.0325 - accuracy: 0.9907 - val_loss: 0.3297 - val_accuracy: 0.9248\n"
     ]
    }
   ],
   "source": [
    "history2 = model2.fit(X_train,Y_train,epochs=epochs,validation_data=(X_val,Y_val),callbacks=[early_stop])"
   ]
  },
  {
   "cell_type": "code",
   "execution_count": 21,
   "id": "e81c2dfc",
   "metadata": {},
   "outputs": [
    {
     "name": "stdout",
     "output_type": "stream",
     "text": [
      "Model: \"sequential_2\"\n",
      "_________________________________________________________________\n",
      " Layer (type)                Output Shape              Param #   \n",
      "=================================================================\n",
      " conv2d_8 (Conv2D)           (None, 146, 146, 32)      832       \n",
      "                                                                 \n",
      " activation_12 (Activation)  (None, 146, 146, 32)      0         \n",
      "                                                                 \n",
      " conv2d_9 (Conv2D)           (None, 143, 143, 32)      16416     \n",
      "                                                                 \n",
      " activation_13 (Activation)  (None, 143, 143, 32)      0         \n",
      "                                                                 \n",
      " max_pooling2d_4 (MaxPooling  (None, 47, 47, 32)       0         \n",
      " 2D)                                                             \n",
      "                                                                 \n",
      " conv2d_10 (Conv2D)          (None, 45, 45, 25)        7225      \n",
      "                                                                 \n",
      " activation_14 (Activation)  (None, 45, 45, 25)        0         \n",
      "                                                                 \n",
      " conv2d_11 (Conv2D)          (None, 44, 44, 25)        2525      \n",
      "                                                                 \n",
      " activation_15 (Activation)  (None, 44, 44, 25)        0         \n",
      "                                                                 \n",
      " max_pooling2d_5 (MaxPooling  (None, 14, 14, 25)       0         \n",
      " 2D)                                                             \n",
      "                                                                 \n",
      " flatten_2 (Flatten)         (None, 4900)              0         \n",
      "                                                                 \n",
      " dense_4 (Dense)             (None, 250)               1225250   \n",
      "                                                                 \n",
      " activation_16 (Activation)  (None, 250)               0         \n",
      "                                                                 \n",
      " dense_5 (Dense)             (None, 4)                 1004      \n",
      "                                                                 \n",
      " activation_17 (Activation)  (None, 4)                 0         \n",
      "                                                                 \n",
      "=================================================================\n",
      "Total params: 1,253,252\n",
      "Trainable params: 1,253,252\n",
      "Non-trainable params: 0\n",
      "_________________________________________________________________\n"
     ]
    }
   ],
   "source": [
    "model2.summary()"
   ]
  },
  {
   "cell_type": "code",
   "execution_count": 22,
   "id": "34c0c092",
   "metadata": {},
   "outputs": [],
   "source": [
    "model2.save('brain_tumor2-with_LR.h5')"
   ]
  },
  {
   "cell_type": "code",
   "execution_count": 24,
   "id": "68ac8928",
   "metadata": {},
   "outputs": [
    {
     "data": {
      "image/png": "[encoded data removed]",
      "text/plain": [
       "<Figure size 432x288 with 1 Axes>"
      ]
     },
     "metadata": {
      "needs_background": "light"
     },
     "output_type": "display_data"
    }
   ],
   "source": [
    "plt.plot(history2.history[\"loss\"],c = \"red\")\n",
    "plt.plot(history2.history[\"val_loss\"],c = \"green\")\n",
    "plt.title(\"Loss\")\n",
    "plt.ylabel(\"Loss\")\n",
    "plt.xlabel(\"Epochs\")\n",
    "plt.legend([\"train\", \"test\"])\n",
    "plt.show()"
   ]
  },
  {
   "cell_type": "code",
   "execution_count": 25,
   "id": "12c3a5a0",
   "metadata": {},
   "outputs": [
    {
     "data": {
      "image/png": "[encoded data removed]",
      "text/plain": [
       "<Figure size 432x288 with 1 Axes>"
      ]
     },
     "metadata": {
      "needs_background": "light"
     },
     "output_type": "display_data"
    }
   ],
   "source": [
    "plt.plot(history2.history[\"accuracy\"],c = \"red\")\n",
    "plt.plot(history2.history[\"val_accuracy\"],c = \"green\")\n",
    "plt.title(\"Accuracy\")\n",
    "plt.ylabel(\"Accuracy\")\n",
    "plt.xlabel(\"Epochs\")\n",
    "plt.legend([\"train\", \"test\"])\n",
    "plt.show()"
   ]
  },
  {
   "cell_type": "code",
   "execution_count": 26,
   "id": "c248b015",
   "metadata": {},
   "outputs": [
    {
     "name": "stdout",
     "output_type": "stream",
     "text": [
      "41/41 [==============================] - 5s 123ms/step\n"
     ]
    },
    {
     "data": {
      "text/plain": [
       "array([2, 0, 0, ..., 3, 3, 3], dtype=int64)"
      ]
     },
     "execution_count": 26,
     "metadata": {},
     "output_type": "execute_result"
    }
   ],
   "source": [
    "predict_x_test2 =model2.predict(X_test) \n",
    "classes_x_test2 =np.argmax(predict_x_test2,axis=1)\n",
    "classes_x_test2"
   ]
  },
  {
   "cell_type": "code",
   "execution_count": 27,
   "id": "c6176509",
   "metadata": {},
   "outputs": [
    {
     "name": "stdout",
     "output_type": "stream",
     "text": [
      "              precision    recall  f1-score   support\n",
      "\n",
      "      glioma       1.00      0.78      0.87       300\n",
      "  meningioma       0.81      0.96      0.88       306\n",
      "     notumor       0.99      0.98      0.98       405\n",
      "   pituitary       0.96      0.98      0.97       300\n",
      "\n",
      "    accuracy                           0.93      1311\n",
      "   macro avg       0.94      0.93      0.93      1311\n",
      "weighted avg       0.94      0.93      0.93      1311\n",
      "\n"
     ]
    }
   ],
   "source": [
    "print(classification_report(Y_test,classes_x_test2,target_names=classes))"
   ]
  },
  {
   "cell_type": "code",
   "execution_count": 28,
   "id": "4c36f984",
   "metadata": {},
   "outputs": [
    {
     "name": "stdout",
     "output_type": "stream",
     "text": [
      "Confusion Matrix\n"
     ]
    },
    {
     "data": {
      "text/plain": [
       "Text(70.8, 0.5, 'Predicted class')"
      ]
     },
     "execution_count": 28,
     "metadata": {},
     "output_type": "execute_result"
    },
    {
     "data": {
      "image/png": "[encoded data removed]",
      "text/plain": [
       "<Figure size 734.4x583.2 with 2 Axes>"
      ]
     },
     "metadata": {
      "needs_background": "light"
     },
     "output_type": "display_data"
    }
   ],
   "source": [
    "print('Confusion Matrix')\n",
    "cm = confusion_matrix(Y_test, classes_x_test2)\n",
    "fig,ax= plt.subplots(figsize=(10.2,8.1))\n",
    "a=sns.color_palette(\"winter_r\")  #_r inverts the palette\n",
    "sns.heatmap(cm, annot=True,fmt='g',linewidths=1,linecolor='white',robust=True,annot_kws={\"size\":18},cmap=a)\n",
    "#annot_kws: settings about annotations\n",
    "ax.xaxis.set_ticklabels(classes); ax.yaxis.set_ticklabels(classes);\n",
    "plt.yticks(va=\"center\")\n",
    "plt.title('Confusion Matrix',fontsize=18,pad=18)\n",
    "plt.xlabel('Actual class',labelpad=22,fontsize=14)\n",
    "plt.ylabel('Predicted class',labelpad=22,fontsize=14)"
   ]
  },
  {
   "cell_type": "markdown",
   "id": "5dc3f304",
   "metadata": {},
   "source": [
    "### Tuning 2\n",
    "\n",
    "In the second tuning stage, the following strategies used are:\n",
    "1. Modification in CNN topology with changed in number of filters, kernel size and batch size, activation layer to softmax\n",
    "2. Addition of Hyperparameters- padding, strides\n",
    "3. Addition of Dropout layers"
   ]
  },
  {
   "cell_type": "code",
   "execution_count": 111,
   "id": "b68d3850",
   "metadata": {},
   "outputs": [
    {
     "name": "stderr",
     "output_type": "stream",
     "text": [
      "WARNING:absl:`lr` is deprecated, please use `learning_rate` instead, or use the legacy optimizer, e.g.,tf.keras.optimizers.legacy.Adam.\n"
     ]
    }
   ],
   "source": [
    "model3 = Sequential()\n",
    "#\n",
    "model3.add(Conv2D(filters = 64, kernel_size = (5,5),padding = 'Same', \n",
    "                 activation ='relu', input_shape = (150,150,1)))\n",
    "model3.add(MaxPool2D(pool_size=(2,2)))\n",
    "model3.add(Dropout(0.25))\n",
    "#\n",
    "model3.add(Conv2D(filters = 128, kernel_size = (3,3),padding = 'Same', \n",
    "                 activation ='relu'))\n",
    "model3.add(MaxPool2D(pool_size=(2,2), strides=(2,2)))\n",
    "model3.add(Dropout(0.25))\n",
    "\n",
    "model3.add(MaxPool2D(pool_size=(2,2), strides=(2,2)))\n",
    "model3.add(Dropout(0.3))\n",
    "#\n",
    "model3.add(Conv2D(filters = 128, kernel_size = (2,2),padding = 'Same', \n",
    "                 activation ='relu'))\n",
    "model3.add(MaxPool2D(pool_size=(2,2), strides=(2,2)))\n",
    "model3.add(Dropout(0.3))\n",
    "\n",
    "#\n",
    "model3.add(Conv2D(filters = 256, kernel_size = (2,2),padding = 'Same', \n",
    "                 activation ='relu'))\n",
    "model3.add(MaxPool2D(pool_size=(2,2), strides=(2,2)))\n",
    "model3.add(Dropout(0.3))\n",
    "\n",
    "# \n",
    "model3.add(Flatten())\n",
    "model3.add(Dense(1024, activation = \"relu\"))\n",
    "model3.add(Dropout(0.5))\n",
    "model3.add(Dense(4, activation = \"softmax\"))\n",
    "optimizer = Adam(lr=0.001, beta_1=0.9, beta_2=0.999)\n",
    "model3.compile(optimizer = optimizer , loss = \"categorical_crossentropy\", metrics=[\"accuracy\"])\n",
    "epochs = 15 \n",
    "batch_size = 40"
   ]
  },
  {
   "cell_type": "code",
   "execution_count": 112,
   "id": "4e26d35f",
   "metadata": {},
   "outputs": [],
   "source": [
    "datagen = ImageDataGenerator(\n",
    "        featurewise_center=False,  \n",
    "        samplewise_center=False, \n",
    "        featurewise_std_normalization=False,  \n",
    "        samplewise_std_normalization=False,  \n",
    "        zca_whitening=False,  \n",
    "        rotation_range=0,\n",
    "        zoom_range = 0,\n",
    "        width_shift_range=0,  \n",
    "        height_shift_range=0,  \n",
    "        horizontal_flip=False,  \n",
    "        vertical_flip=False) "
   ]
  },
  {
   "cell_type": "code",
   "execution_count": 113,
   "id": "3666a1f9",
   "metadata": {},
   "outputs": [
    {
     "name": "stdout",
     "output_type": "stream",
     "text": [
      "Epoch 1/15\n",
      "128/128 [==============================] - 131s 1s/step - loss: 0.9425 - accuracy: 0.5855 - val_loss: 0.8260 - val_accuracy: 0.6503\n",
      "Epoch 2/15\n",
      "128/128 [==============================] - 130s 1s/step - loss: 0.5695 - accuracy: 0.7773 - val_loss: 0.6827 - val_accuracy: 0.7220\n",
      "Epoch 3/15\n",
      "128/128 [==============================] - 132s 1s/step - loss: 0.4794 - accuracy: 0.8090 - val_loss: 0.5329 - val_accuracy: 0.7745\n",
      "Epoch 4/15\n",
      "128/128 [==============================] - 132s 1s/step - loss: 0.4050 - accuracy: 0.8500 - val_loss: 0.4311 - val_accuracy: 0.8322\n",
      "Epoch 5/15\n",
      "128/128 [==============================] - 133s 1s/step - loss: 0.3436 - accuracy: 0.8751 - val_loss: 0.4088 - val_accuracy: 0.8374\n",
      "Epoch 6/15\n",
      "128/128 [==============================] - 136s 1s/step - loss: 0.2925 - accuracy: 0.8890 - val_loss: 0.3219 - val_accuracy: 0.8776\n",
      "Epoch 7/15\n",
      "128/128 [==============================] - 136s 1s/step - loss: 0.2564 - accuracy: 0.9043 - val_loss: 0.2543 - val_accuracy: 0.8986\n",
      "Epoch 8/15\n",
      "128/128 [==============================] - 132s 1s/step - loss: 0.2439 - accuracy: 0.9086 - val_loss: 0.3015 - val_accuracy: 0.8689\n",
      "Epoch 9/15\n",
      "128/128 [==============================] - 142s 1s/step - loss: 0.2080 - accuracy: 0.9245 - val_loss: 0.2286 - val_accuracy: 0.9091\n",
      "Epoch 10/15\n",
      "128/128 [==============================] - 141s 1s/step - loss: 0.1821 - accuracy: 0.9371 - val_loss: 0.2079 - val_accuracy: 0.9143\n",
      "Epoch 11/15\n",
      "128/128 [==============================] - 140s 1s/step - loss: 0.1647 - accuracy: 0.9416 - val_loss: 0.2296 - val_accuracy: 0.9021\n",
      "Epoch 12/15\n",
      "128/128 [==============================] - 141s 1s/step - loss: 0.1491 - accuracy: 0.9475 - val_loss: 0.1893 - val_accuracy: 0.9388\n",
      "Epoch 13/15\n",
      "128/128 [==============================] - 140s 1s/step - loss: 0.1442 - accuracy: 0.9514 - val_loss: 0.2123 - val_accuracy: 0.9196\n",
      "Epoch 14/15\n",
      "128/128 [==============================] - 139s 1s/step - loss: 0.1216 - accuracy: 0.9557 - val_loss: 0.2702 - val_accuracy: 0.8916\n",
      "Epoch 15/15\n",
      "128/128 [==============================] - 137s 1s/step - loss: 0.1284 - accuracy: 0.9522 - val_loss: 0.2420 - val_accuracy: 0.9161\n"
     ]
    }
   ],
   "source": [
    "datagen.fit(X_train)\n",
    "history3 = model3.fit(datagen.flow(X_train,Y_train, batch_size=batch_size),\n",
    "                              epochs = epochs, validation_data = (X_val,Y_val),\n",
    "                              steps_per_epoch = X_train.shape[0] // batch_size, callbacks=[early_stop]) "
   ]
  },
  {
   "cell_type": "code",
   "execution_count": 114,
   "id": "fdcda667",
   "metadata": {},
   "outputs": [
    {
     "name": "stdout",
     "output_type": "stream",
     "text": [
      "Model: \"sequential_6\"\n",
      "_________________________________________________________________\n",
      " Layer (type)                Output Shape              Param #   \n",
      "=================================================================\n",
      " conv2d_24 (Conv2D)          (None, 150, 150, 64)      1664      \n",
      "                                                                 \n",
      " max_pooling2d_21 (MaxPoolin  (None, 75, 75, 64)       0         \n",
      " g2D)                                                            \n",
      "                                                                 \n",
      " dropout_18 (Dropout)        (None, 75, 75, 64)        0         \n",
      "                                                                 \n",
      " conv2d_25 (Conv2D)          (None, 75, 75, 128)       73856     \n",
      "                                                                 \n",
      " max_pooling2d_22 (MaxPoolin  (None, 37, 37, 128)      0         \n",
      " g2D)                                                            \n",
      "                                                                 \n",
      " dropout_19 (Dropout)        (None, 37, 37, 128)       0         \n",
      "                                                                 \n",
      " max_pooling2d_23 (MaxPoolin  (None, 18, 18, 128)      0         \n",
      " g2D)                                                            \n",
      "                                                                 \n",
      " dropout_20 (Dropout)        (None, 18, 18, 128)       0         \n",
      "                                                                 \n",
      " conv2d_26 (Conv2D)          (None, 18, 18, 128)       65664     \n",
      "                                                                 \n",
      " max_pooling2d_24 (MaxPoolin  (None, 9, 9, 128)        0         \n",
      " g2D)                                                            \n",
      "                                                                 \n",
      " dropout_21 (Dropout)        (None, 9, 9, 128)         0         \n",
      "                                                                 \n",
      " conv2d_27 (Conv2D)          (None, 9, 9, 256)         131328    \n",
      "                                                                 \n",
      " max_pooling2d_25 (MaxPoolin  (None, 4, 4, 256)        0         \n",
      " g2D)                                                            \n",
      "                                                                 \n",
      " dropout_22 (Dropout)        (None, 4, 4, 256)         0         \n",
      "                                                                 \n",
      " flatten_6 (Flatten)         (None, 4096)              0         \n",
      "                                                                 \n",
      " dense_12 (Dense)            (None, 1024)              4195328   \n",
      "                                                                 \n",
      " dropout_23 (Dropout)        (None, 1024)              0         \n",
      "                                                                 \n",
      " dense_13 (Dense)            (None, 4)                 4100      \n",
      "                                                                 \n",
      "=================================================================\n",
      "Total params: 4,471,940\n",
      "Trainable params: 4,471,940\n",
      "Non-trainable params: 0\n",
      "_________________________________________________________________\n"
     ]
    }
   ],
   "source": [
    "model3.summary()"
   ]
  },
  {
   "cell_type": "code",
   "execution_count": 115,
   "id": "3aeb6514",
   "metadata": {},
   "outputs": [],
   "source": [
    "model3.save('brain_tumor3.h5')"
   ]
  },
  {
   "cell_type": "code",
   "execution_count": 116,
   "id": "ef866886",
   "metadata": {},
   "outputs": [
    {
     "data": {
      "image/png": "[encoded data removed]",
      "text/plain": [
       "<Figure size 432x288 with 1 Axes>"
      ]
     },
     "metadata": {
      "needs_background": "light"
     },
     "output_type": "display_data"
    }
   ],
   "source": [
    "plt.plot(history3.history[\"loss\"],c = \"red\")\n",
    "plt.plot(history3.history[\"val_loss\"],c = \"green\")\n",
    "plt.title(\"Loss\")\n",
    "plt.ylabel(\"Loss\")\n",
    "plt.xlabel(\"Epochs\")\n",
    "plt.legend([\"train\", \"test\"])\n",
    "plt.show()"
   ]
  },
  {
   "cell_type": "code",
   "execution_count": 117,
   "id": "81694862",
   "metadata": {},
   "outputs": [
    {
     "data": {
      "image/png": "[encoded data removed]",
      "text/plain": [
       "<Figure size 432x288 with 1 Axes>"
      ]
     },
     "metadata": {
      "needs_background": "light"
     },
     "output_type": "display_data"
    }
   ],
   "source": [
    "plt.plot(history3.history[\"accuracy\"],c = \"red\")\n",
    "plt.plot(history3.history[\"val_accuracy\"],c = \"green\")\n",
    "plt.title(\"Accuracy\")\n",
    "plt.ylabel(\"Accuracy\")\n",
    "plt.xlabel(\"Epochs\")\n",
    "plt.legend([\"train\", \"test\"])\n",
    "plt.show()"
   ]
  },
  {
   "cell_type": "code",
   "execution_count": 124,
   "id": "dffa8625",
   "metadata": {},
   "outputs": [
    {
     "name": "stdout",
     "output_type": "stream",
     "text": [
      "41/41 [==============================] - 7s 165ms/step\n"
     ]
    },
    {
     "data": {
      "text/plain": [
       "array([0, 0, 0, ..., 3, 3, 3], dtype=int64)"
      ]
     },
     "execution_count": 124,
     "metadata": {},
     "output_type": "execute_result"
    }
   ],
   "source": [
    "predict_x_test3 =model3.predict(X_test) \n",
    "classes_x_test3 =np.argmax(predict_x_test3,axis=1)\n",
    "classes_x_test3"
   ]
  },
  {
   "cell_type": "code",
   "execution_count": 125,
   "id": "6aa721a8",
   "metadata": {},
   "outputs": [
    {
     "name": "stdout",
     "output_type": "stream",
     "text": [
      "              precision    recall  f1-score   support\n",
      "\n",
      "      glioma       0.80      0.96      0.87       300\n",
      "  meningioma       0.95      0.63      0.76       306\n",
      "     notumor       0.94      0.99      0.97       405\n",
      "   pituitary       0.92      0.99      0.95       300\n",
      "\n",
      "    accuracy                           0.90      1311\n",
      "   macro avg       0.90      0.89      0.89      1311\n",
      "weighted avg       0.91      0.90      0.89      1311\n",
      "\n"
     ]
    }
   ],
   "source": [
    "print(classification_report(Y_test,classes_x_test3,target_names=classes))"
   ]
  },
  {
   "cell_type": "code",
   "execution_count": 127,
   "id": "a9ed6634",
   "metadata": {},
   "outputs": [
    {
     "name": "stdout",
     "output_type": "stream",
     "text": [
      "Confusion Matrix\n"
     ]
    },
    {
     "data": {
      "text/plain": [
       "Text(70.8, 0.5, 'Predicted class')"
      ]
     },
     "execution_count": 127,
     "metadata": {},
     "output_type": "execute_result"
    },
    {
     "data": {
      "image/png": "[encoded data removed]",
      "text/plain": [
       "<Figure size 734.4x583.2 with 2 Axes>"
      ]
     },
     "metadata": {
      "needs_background": "light"
     },
     "output_type": "display_data"
    }
   ],
   "source": [
    "print('Confusion Matrix')\n",
    "cm = confusion_matrix(Y_test, classes_x_test3)\n",
    "fig,ax= plt.subplots(figsize=(10.2,8.1))\n",
    "a=sns.color_palette(\"winter_r\")  #_r inverts the palette\n",
    "sns.heatmap(cm, annot=True,fmt='g',linewidths=1,linecolor='white',robust=True,annot_kws={\"size\":18},cmap=a)\n",
    "#annot_kws: settings about annotations\n",
    "ax.xaxis.set_ticklabels(classes); ax.yaxis.set_ticklabels(classes);\n",
    "plt.yticks(va=\"center\")\n",
    "plt.title('Confusion Matrix',fontsize=18,pad=18)\n",
    "plt.xlabel('Actual class',labelpad=22,fontsize=14)\n",
    "plt.ylabel('Predicted class',labelpad=22,fontsize=14)"
   ]
  },
  {
   "cell_type": "markdown",
   "id": "f42b0d1c",
   "metadata": {},
   "source": [
    "### For Tuning 3 refer the VGG model  -->"
   ]
  },
  {
   "cell_type": "code",
   "execution_count": null,
   "id": "ca658564",
   "metadata": {},
   "outputs": [],
   "source": []
  }
 ],
 "metadata": {
  "kernelspec": {
   "display_name": "Python 3",
   "language": "python",
   "name": "python3"
  },
  "language_info": {
   "codemirror_mode": {
    "name": "ipython",
    "version": 3
   },
   "file_extension": ".py",
   "mimetype": "text/x-python",
   "name": "python",
   "nbconvert_exporter": "python",
   "pygments_lexer": "ipython3",
   "version": "3.8.8"
  }
 },
 "nbformat": 4,
 "nbformat_minor": 5
}
